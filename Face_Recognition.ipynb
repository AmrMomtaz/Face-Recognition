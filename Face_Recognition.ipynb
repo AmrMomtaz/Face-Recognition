{
  "nbformat": 4,
  "nbformat_minor": 0,
  "metadata": {
    "colab": {
      "name": "Face-Recognition.ipynb",
      "provenance": [],
      "collapsed_sections": [],
      "authorship_tag": "ABX9TyPlrvTXFpOB1C6VvY3chGGi",
      "include_colab_link": true
    },
    "kernelspec": {
      "name": "python3",
      "display_name": "Python 3"
    },
    "language_info": {
      "name": "python"
    }
  },
  "cells": [
    {
      "cell_type": "markdown",
      "metadata": {
        "id": "view-in-github",
        "colab_type": "text"
      },
      "source": [
        "<a href=\"https://colab.research.google.com/github/AmrMomtaz/Face-Recognition/blob/main/Face_Recognition.ipynb\" target=\"_parent\"><img src=\"https://colab.research.google.com/assets/colab-badge.svg\" alt=\"Open In Colab\"/></a>"
      ]
    },
    {
      "cell_type": "markdown",
      "source": [
        "#Face-Recognition"
      ],
      "metadata": {
        "id": "KgUcAEvr5bUu"
      }
    },
    {
      "cell_type": "markdown",
      "source": [
        "##Installation and handling data\n",
        "\n",
        "In this section we will install the required dependencies and import the data and split it as required"
      ],
      "metadata": {
        "id": "erEs_5vK5gOp"
      }
    },
    {
      "cell_type": "code",
      "execution_count": null,
      "metadata": {
        "colab": {
          "base_uri": "https://localhost:8080/"
        },
        "id": "9zqJTVUq5GVx",
        "outputId": "41e43115-8097-4aa0-b272-d3f35adb00c8"
      },
      "outputs": [
        {
          "output_type": "stream",
          "name": "stdout",
          "text": [
            "Warning: Your Kaggle API key is readable by other users on this system! To fix this, you can run 'chmod 600 /root/.kaggle/kaggle.json'\n",
            "Downloading att-database-of-faces.zip to /content\n",
            "  0% 0.00/3.61M [00:00<?, ?B/s]\n",
            "100% 3.61M/3.61M [00:00<00:00, 121MB/s]\n"
          ]
        }
      ],
      "source": [
        "# Clonning the data\n",
        "! mkdir ~/.kaggle\n",
        "! cp kaggle.json ~/.kaggle/\n",
        "! kaggle datasets download -d kasikrit/att-database-of-faces\n",
        "! unzip /content/att-database-of-faces.zip\n",
        "! rm /content/att-database-of-faces.zip\n",
        "\n",
        "# Importing libraries\n",
        "import numpy as np\n",
        "import PIL"
      ]
    },
    {
      "cell_type": "code",
      "source": [
        "list_of_vectors = list()\n",
        "for subject in range(1,41):\n",
        "  vectors = list()\n",
        "  for image in range(1,11):\n",
        "    an_image = PIL.Image.open(f'/content/s{subject}/{image}.pgm')\n",
        "    image_sequence = an_image.getdata()\n",
        "    image_array = np.array(image_sequence).reshape((-1,1))\n",
        "    vectors.append(image_array)\n",
        "  list_of_vectors.append(vectors)\n",
        "print(np.stack(list_of_vectors,axis = 0).reshape((40,10,-1))[0])"
      ],
      "metadata": {
        "colab": {
          "base_uri": "https://localhost:8080/"
        },
        "id": "rtckAemBAxMa",
        "outputId": "9ac18529-5473-46b9-d5f8-dff3c903a0b1"
      },
      "execution_count": 34,
      "outputs": [
        {
          "output_type": "stream",
          "name": "stdout",
          "text": [
            "[[48 49 45 ... 47 46 46]\n",
            " [60 60 62 ... 32 34 34]\n",
            " [39 44 53 ... 29 26 29]\n",
            " ...\n",
            " [44 43 32 ... 43 43 37]\n",
            " [42 41 44 ... 42 43 41]\n",
            " [34 34 33 ... 37 40 33]]\n"
          ]
        }
      ]
    }
  ]
}